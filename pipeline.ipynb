{
 "cells": [
  {
   "cell_type": "code",
   "execution_count": 26,
   "metadata": {},
   "outputs": [
    {
     "name": "stdout",
     "output_type": "stream",
     "text": [
      "CSV file has Columns \n",
      "Index(['Purchase__basketValueGross', 'Purchase__purchaseType',\n",
      "       'Purchase__overallBasketSavings', 'Purchase__storeId',\n",
      "       'Purchase__paymentType__category', 'Purchase__paymentType__amount',\n",
      "       'Purchase__timeStamp', 'Purchase__basketValueNet', 'Purchase__says',\n",
      "       'Purchase__storeName', 'Purchase__storeFormat',\n",
      "       'Purchase__product__name', 'Purchase__product__quantity',\n",
      "       'Purchase__product__channel', 'Purchase__product__price'],\n",
      "      dtype='object')\n",
      "\n",
      " The CSV file has data types \n",
      "Purchase__basketValueGross          object\n",
      "Purchase__purchaseType              object\n",
      "Purchase__overallBasketSavings     float64\n",
      "Purchase__storeId                  float64\n",
      "Purchase__paymentType__category    float64\n",
      "Purchase__paymentType__amount      float64\n",
      "Purchase__timeStamp                 object\n",
      "Purchase__basketValueNet           float64\n",
      "Purchase__says                     float64\n",
      "Purchase__storeName                 object\n",
      "Purchase__storeFormat               object\n",
      "Purchase__product__name             object\n",
      "Purchase__product__quantity        float64\n",
      "Purchase__product__channel          object\n",
      "Purchase__product__price           float64\n",
      "dtype: object\n"
     ]
    }
   ],
   "source": [
    "import pandas as pd\n",
    "\n",
    "def read(file):\n",
    "  data = pd.read_csv(file)\n",
    "\n",
    "  print(\"CSV file has Columns \\n{}\".format(data.columns))\n",
    "  print(\"\\n The CSV file has data types \\n{}\".format(data.dtypes))\n",
    "  \n",
    "\n",
    "read(\"DataAnalystTask.csv\")"
   ]
  }
 ],
 "metadata": {
  "kernelspec": {
   "display_name": "Python 3",
   "language": "python",
   "name": "python3"
  },
  "language_info": {
   "codemirror_mode": {
    "name": "ipython",
    "version": 3
   },
   "file_extension": ".py",
   "mimetype": "text/x-python",
   "name": "python",
   "nbconvert_exporter": "python",
   "pygments_lexer": "ipython3",
   "version": "3.9.6"
  }
 },
 "nbformat": 4,
 "nbformat_minor": 2
}
